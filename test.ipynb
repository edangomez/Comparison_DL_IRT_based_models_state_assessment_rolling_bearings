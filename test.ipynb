{
 "cells": [
  {
   "cell_type": "code",
   "execution_count": 1,
   "metadata": {},
   "outputs": [],
   "source": [
    "from cProfile import label\n",
    "import time\n",
    "import argparse\n",
    "from xmlrpc.client import boolean\n",
    "import pandas as pd\n",
    "import numpy as np\n",
    "import os\n",
    "\n",
    "from sklearn.model_selection import train_test_split\n",
    "from sklearn.metrics import precision_recall_fscore_support\n",
    "from sklearn.metrics import confusion_matrix\n",
    "\n",
    "import torch\n",
    "import torch.nn.functional as F\n",
    "import torch.optim as optimize \n",
    "import torch.nn as nn\n",
    "from torch.autograd import Variable\n",
    "from torchvision import datasets, transforms\n",
    "from util.func import csv2numpy\n",
    "import glob\n",
    "\n",
    "import matplotlib.pyplot as plt\n",
    "from PIL import Image\n",
    "import cv2\n",
    "from util.dataloader import IRT, IRTHybrid\n",
    "from torch.utils.data import DataLoader\n",
    "from models.CNN import AlexNet, EfficientNet"
   ]
  },
  {
   "cell_type": "markdown",
   "metadata": {},
   "source": [
    "# Image / IRT Data"
   ]
  },
  {
   "cell_type": "markdown",
   "metadata": {},
   "source": [
    "### Setup"
   ]
  },
  {
   "cell_type": "code",
   "execution_count": 2,
   "metadata": {},
   "outputs": [
    {
     "data": {
      "text/plain": [
       "(43, 43)"
      ]
     },
     "execution_count": 2,
     "metadata": {},
     "output_type": "execute_result"
    }
   ],
   "source": [
    "test = 1\n",
    "speed = '20Hz'\n",
    "direc = 'lateral'\n",
    "img_list = sorted(glob.glob(os.path.join('data', str(test), speed, 'images', '*.png'), recursive=True))\n",
    "irt_list = sorted(glob.glob(os.path.join('data', str(test), speed, 'thermal_mat', '*.csv'), recursive=True))\n",
    "\n",
    "len(irt_list), len(img_list)\n",
    "\n",
    "# plt.imshow(cv2.imread(img_list[10]))"
   ]
  },
  {
   "cell_type": "code",
   "execution_count": 3,
   "metadata": {},
   "outputs": [
    {
     "data": {
      "text/html": [
       "<div>\n",
       "<style scoped>\n",
       "    .dataframe tbody tr th:only-of-type {\n",
       "        vertical-align: middle;\n",
       "    }\n",
       "\n",
       "    .dataframe tbody tr th {\n",
       "        vertical-align: top;\n",
       "    }\n",
       "\n",
       "    .dataframe thead th {\n",
       "        text-align: right;\n",
       "    }\n",
       "</style>\n",
       "<table border=\"1\" class=\"dataframe\">\n",
       "  <thead>\n",
       "    <tr style=\"text-align: right;\">\n",
       "      <th></th>\n",
       "      <th>path</th>\n",
       "      <th>category</th>\n",
       "      <th>label</th>\n",
       "    </tr>\n",
       "  </thead>\n",
       "  <tbody>\n",
       "    <tr>\n",
       "      <th>2076</th>\n",
       "      <td>data/3/60Hz/images/R20211117_3735.png</td>\n",
       "      <td>S3</td>\n",
       "      <td>3</td>\n",
       "    </tr>\n",
       "    <tr>\n",
       "      <th>2179</th>\n",
       "      <td>data/3/60Hz/images/R20211117_3736.png</td>\n",
       "      <td>S3</td>\n",
       "      <td>3</td>\n",
       "    </tr>\n",
       "    <tr>\n",
       "      <th>1971</th>\n",
       "      <td>data/3/60Hz/images/R20211117_3737.png</td>\n",
       "      <td>S3</td>\n",
       "      <td>3</td>\n",
       "    </tr>\n",
       "    <tr>\n",
       "      <th>2260</th>\n",
       "      <td>data/3/60Hz/images/R20211117_3738.png</td>\n",
       "      <td>S3</td>\n",
       "      <td>3</td>\n",
       "    </tr>\n",
       "    <tr>\n",
       "      <th>2201</th>\n",
       "      <td>data/3/60Hz/images/R20211117_3739.png</td>\n",
       "      <td>S3</td>\n",
       "      <td>3</td>\n",
       "    </tr>\n",
       "  </tbody>\n",
       "</table>\n",
       "</div>"
      ],
      "text/plain": [
       "                                       path category  label\n",
       "2076  data/3/60Hz/images/R20211117_3735.png       S3      3\n",
       "2179  data/3/60Hz/images/R20211117_3736.png       S3      3\n",
       "1971  data/3/60Hz/images/R20211117_3737.png       S3      3\n",
       "2260  data/3/60Hz/images/R20211117_3738.png       S3      3\n",
       "2201  data/3/60Hz/images/R20211117_3739.png       S3      3"
      ]
     },
     "execution_count": 3,
     "metadata": {},
     "output_type": "execute_result"
    }
   ],
   "source": [
    "df_img = pd.read_csv('thermal_img.csv', index_col=0).sort_values(by = ['path'])\n",
    "df_irt = pd.read_csv('thermal_mat.csv', index_col=0)\n",
    "df_img.tail()\n",
    "# df_irt.tail()"
   ]
  },
  {
   "cell_type": "code",
   "execution_count": 4,
   "metadata": {},
   "outputs": [
    {
     "name": "stdout",
     "output_type": "stream",
     "text": [
      "(480, 640, 3)\n",
      "(921600,)\n"
     ]
    },
    {
     "data": {
      "text/plain": [
       "<matplotlib.image.AxesImage at 0x7f109b9cf510>"
      ]
     },
     "execution_count": 4,
     "metadata": {},
     "output_type": "execute_result"
    },
    {
     "data": {
      "image/png": "[encoded data removed]",
      "text/plain": [
       "<Figure size 432x288 with 1 Axes>"
      ]
     },
     "metadata": {
      "needs_background": "light"
     },
     "output_type": "display_data"
    }
   ],
   "source": [
    "img = cv2.imread(df_img['path'][590])\n",
    "# img = csv2numpy(df_irt['path'][590])\n",
    "original_size = img.shape\n",
    "print(img.shape)\n",
    "# plt.imshow(img)\n",
    "# plt.show()\n",
    "img = img.flatten()\n",
    "print(img.shape)\n",
    "img = np.resize(img, original_size)\n",
    "plt.imshow(img)"
   ]
  },
  {
   "cell_type": "code",
   "execution_count": 8,
   "metadata": {},
   "outputs": [],
   "source": [
    "class args: pass\n",
    "args.cuda = True\n",
    "args.device = 1\n",
    "args.epochs = 1\n",
    "args.batchSize = 5\n",
    "args.dataAugmentation =False\n",
    "args.log_interval=100\n",
    "args.lr = 1e-4\n",
    "args.momentum = 0.9\n",
    "args.dtype = 'img'\n",
    "args.seed = 1"
   ]
  },
  {
   "cell_type": "code",
   "execution_count": 9,
   "metadata": {},
   "outputs": [],
   "source": [
    "dtype = 'img'\n",
    "\n",
    "if dtype == 'img':\n",
    "    x_train, x_test, y_train, y_test = train_test_split(df_img['path'].values, df_img['label'].values,\n",
    "                                                            test_size=0.3,\n",
    "                                                            random_state=1234,\n",
    "                                                            stratify=df_img['label'].values)\n",
    "elif dtype == 'irt':\n",
    "    x_train, x_test, y_train, y_test = train_test_split(df_irt['path'].values, df_irt['label'].values,\n",
    "                                                            test_size=0.3,\n",
    "                                                            random_state=1234,\n",
    "                                                            stratify=df_irt['label'].values)"
   ]
  },
  {
   "cell_type": "markdown",
   "metadata": {},
   "source": [
    "### Model"
   ]
  },
  {
   "cell_type": "code",
   "execution_count": 10,
   "metadata": {},
   "outputs": [],
   "source": [
    "class AlexNet_(nn.Module):\n",
    "    \n",
    "    def __init__(self, dtype):\n",
    "        super(AlexNet_, self).__init__()\n",
    "\n",
    "        ##Combinada\n",
    "        if dtype == 'img':\n",
    "            self.conv1 = nn.Conv2d(in_channels=3, out_channels= 96, kernel_size= 9, stride=2, padding=0 ) \n",
    "            self.batchNorm1 = nn.BatchNorm2d(num_features=96), \n",
    "            self.maxpool = nn.MaxPool2d(kernel_size=2, stride=2) \n",
    "            self.conv2 = nn.Conv2d(in_channels=96, out_channels=256, kernel_size=5, stride= 1, padding= 4)\n",
    "            self.weight2 = self.conv2.weight.data.numpy()\n",
    "\n",
    "            self.conv3 = nn.Conv2d(in_channels=256, out_channels=384, kernel_size=3, stride= 1, padding= 1) \n",
    "            self.conv4 = nn.Conv2d(in_channels=384, out_channels=384, kernel_size=3, stride=1, padding=1) \n",
    "            self.fc1  = nn.Linear(in_features= 3456, out_features= 2304)\n",
    "            self.fc2  = nn.Linear(in_features= 2304, out_features= 4096)\n",
    "            self.fc3  = nn.Linear(in_features= 4096, out_features= 4096)\n",
    "            self.fc4 = nn.Linear(in_features=4096 , out_features=4)\n",
    "        elif dtype == 'hybrid':\n",
    "            self.conv1 = nn.Conv2d(in_channels=4, out_channels= 96, kernel_size= 9, stride=2, padding=0 ) \n",
    "            self.batchNorm1 = nn.BatchNorm2d(num_features=96), \n",
    "            self.maxpool = nn.MaxPool2d(kernel_size=2, stride=2) \n",
    "            self.conv2 = nn.Conv2d(in_channels=96, out_channels=256, kernel_size=5, stride= 1, padding= 4)\n",
    "            self.weight2 = self.conv2.weight.data.numpy()\n",
    "\n",
    "            self.conv3 = nn.Conv2d(in_channels=256, out_channels=384, kernel_size=3, stride= 1, padding= 1) \n",
    "            self.conv4 = nn.Conv2d(in_channels=384, out_channels=384, kernel_size=3, stride=1, padding=1) \n",
    "            self.fc1  = nn.Linear(in_features= 3456, out_features= 2304)\n",
    "            self.fc2  = nn.Linear(in_features= 2304, out_features= 4096)\n",
    "            self.fc3  = nn.Linear(in_features= 4096, out_features= 4096)\n",
    "            self.fc4 = nn.Linear(in_features=4096 , out_features=4)\n",
    "        elif dtype == 'irt':\n",
    "            print('using irt_mat data')\n",
    "            self.conv1 = nn.Conv2d(in_channels=1, out_channels= 96, kernel_size= 9, stride=2, padding=0 ) \n",
    "            self.batchNorm1 = nn.BatchNorm2d(num_features=96), \n",
    "            self.maxpool = nn.MaxPool2d(kernel_size=2, stride=2) \n",
    "            self.conv2 = nn.Conv2d(in_channels=96, out_channels=256, kernel_size=5, stride= 1, padding= 4)\n",
    "            self.conv3 = nn.Conv2d(in_channels=256, out_channels=384, kernel_size=3, stride= 1, padding= 1) \n",
    "            self.conv4 = nn.Conv2d(in_channels=384, out_channels=384, kernel_size=3, stride=1, padding=1) \n",
    "            self.fc1  = nn.Linear(in_features= 3456, out_features= 2304)\n",
    "            self.fc2  = nn.Linear(in_features= 2304, out_features= 4096)\n",
    "            self.fc3  = nn.Linear(in_features= 4096, out_features= 4096)\n",
    "            self.fc4 = nn.Linear(in_features=4096 , out_features=4)\n",
    "\n",
    "    def forward(self,img, irt=None):\n",
    "        # img = \n",
    "        x = F.relu(self.conv1(img)) # out_dim [110x110x96]\n",
    "        x = self.maxpool(x) # out_dim [55x55x96]\n",
    "        x = F.relu(self.conv2(x))  # out_dim [29x29x256]\n",
    "        x = self.maxpool(x)  # out_dim [14x14x256]\n",
    "        # plt.imshow(self.weight2[0, 2])\n",
    "        # plt.show()\n",
    "        x = F.relu(self.conv3(x)) # out_dim [14x14x384]\n",
    "        x = self.maxpool(x)  # out_dim [7x7x256]\n",
    "        x = F.relu(self.conv4(x)) # out_dim [8x8x384]\n",
    "        x = self.maxpool(x)  # out_dim [4x4x256]\n",
    "        x = self.maxpool(x)  # out_dim [6x6x256]\n",
    "        x = x.reshape(x.shape[0], -1)  # out_dim [9216x1]\n",
    "        x = F.relu(self.fc1(x)) # out_dim [4096x1]\n",
    "        x = F.relu(self.fc2(x)) # out_dim [4096x1]\n",
    "        x = F.relu(self.fc3(x)) # out_dim [4096x1]\n",
    "        x = self.fc4(x) # out_dim [1000x1]\n",
    "\n",
    "        return x"
   ]
  },
  {
   "cell_type": "markdown",
   "metadata": {},
   "source": [
    "### DataLoader"
   ]
  },
  {
   "cell_type": "code",
   "execution_count": 13,
   "metadata": {},
   "outputs": [],
   "source": [
    "import os\n",
    "#from skimage import io, transform\n",
    "import cv2 as cv\n",
    "from numpy import dtype\n",
    "\n",
    "import torch\n",
    "from torch.utils.data import Dataset\n",
    "from util.func import csv2numpy\n",
    "import numpy as np\n",
    "\n",
    "\n",
    "# Dataset class\n",
    "class IRT_(Dataset):\n",
    "  'Characterizes a dataset for PyTorch'\n",
    "  def __init__(self, images_paths, labels, data_path, dtype = 'img', transform=None):\n",
    "        super(IRT_, self).__init__()\n",
    "        'Initialization'\n",
    "        self.labels = labels\n",
    "        self.images_paths = images_paths\n",
    "        self.transform = transform\n",
    "        self.data_path = data_path\n",
    "        self.dtype = dtype\n",
    "\n",
    "  def __len__(self):\n",
    "        'Denotes the total number of samples'\n",
    "        return len(self.images_paths)\n",
    "\n",
    "  def __getitem__(self, index):\n",
    "        if self.dtype == 'irt':\n",
    "            'Generates one sample of data'\n",
    "            #   print(self.images_paths[index])\n",
    "            path = self.images_paths[index]\n",
    "            \n",
    "            # Load data and get label\n",
    "            label = self.labels[index]\n",
    "            image = csv2numpy(path)\n",
    "            print(image.shape)\n",
    "            image= np.array([cv.resize(image, (227,227), interpolation=cv.INTER_CUBIC)])  #W,H,C   [200, 300, 3]\n",
    "            # image = image.transpose(2, 0, 1) #C,W,H  [3,200,300]\n",
    "\n",
    "            if self.transform:\n",
    "                  image = self.transform(image)\n",
    "            return image, label\n",
    "        elif self.dtype == 'img':\n",
    "            'Generates one sample of data'\n",
    "            #   print(self.images_paths[index])\n",
    "            path = self.images_paths[index]\n",
    "            \n",
    "            # Load data and get label\n",
    "            label = self.labels[index]\n",
    "            image = cv.imread(path, cv.IMREAD_COLOR)\n",
    "            if image.shape == (640, 480, 3):\n",
    "                  image = np.rot90(image)\n",
    "            #   print(image.shape)\n",
    "            # image= cv.resize(image, (227,227), interpolation=cv.INTER_CUBIC)  #W,H,C   [200, 300, 3]\n",
    "            image = image.transpose(2, 0, 1) #C,W,H  [3,200,300]\n",
    "\n",
    "            if self.transform:\n",
    "                  image = self.transform(image)\n",
    "            return image, label\n",
    "        \n",
    "data_path = '/home/edgomez10/Project/TB-and-IB-analysis-of-IRT-for-the-state-assessment-of-rolling-bearings-using-DL/data'\n",
    "train_set = IRT_(x_train, y_train, data_path=data_path, transform=None, dtype = 'img')\n",
    "train_loader = DataLoader(train_set, batch_size=5, shuffle=True)"
   ]
  },
  {
   "cell_type": "code",
   "execution_count": 14,
   "metadata": {},
   "outputs": [
    {
     "data": {
      "text/plain": [
       "numpy.ndarray"
      ]
     },
     "execution_count": 14,
     "metadata": {},
     "output_type": "execute_result"
    }
   ],
   "source": [
    "type(train_set.__getitem__(0)[0])"
   ]
  },
  {
   "cell_type": "code",
   "execution_count": 18,
   "metadata": {},
   "outputs": [
    {
     "name": "stdout",
     "output_type": "stream",
     "text": [
      "mean tensor(44.1772)\n",
      "std tensor(76.7646)\n",
      "std torch.Size([5, 3, 480, 640])\n"
     ]
    }
   ],
   "source": [
    "data = next(iter(train_loader))\n",
    "print('mean',torch.Tensor.float(data[0]).mean())\n",
    "print('std',torch.Tensor.float(data[0]).std())\n",
    "print('std',torch.Tensor.float(data[0]).shape)\n"
   ]
  },
  {
   "cell_type": "markdown",
   "metadata": {},
   "source": [
    "### Training"
   ]
  },
  {
   "cell_type": "code",
   "execution_count": 19,
   "metadata": {},
   "outputs": [
    {
     "name": "stdout",
     "output_type": "stream",
     "text": [
      "data shape:  torch.Size([5, 3, 480, 640])\n",
      "target:  torch.Size([5])\n"
     ]
    },
    {
     "ename": "RuntimeError",
     "evalue": "mat1 and mat2 shapes cannot be multiplied (5x26880 and 3456x2304)",
     "output_type": "error",
     "traceback": [
      "\u001b[0;31m---------------------------------------------------------------------------\u001b[0m",
      "\u001b[0;31mRuntimeError\u001b[0m                              Traceback (most recent call last)",
      "\u001b[0;32m<ipython-input-19-afa58e683eb7>\u001b[0m in \u001b[0;36m<module>\u001b[0;34m\u001b[0m\n\u001b[1;32m     14\u001b[0m     \u001b[0moptimizer\u001b[0m\u001b[0;34m.\u001b[0m\u001b[0mzero_grad\u001b[0m\u001b[0;34m(\u001b[0m\u001b[0;34m)\u001b[0m\u001b[0;34m\u001b[0m\u001b[0;34m\u001b[0m\u001b[0m\n\u001b[1;32m     15\u001b[0m \u001b[0;34m\u001b[0m\u001b[0m\n\u001b[0;32m---> 16\u001b[0;31m     \u001b[0mscores\u001b[0m \u001b[0;34m=\u001b[0m \u001b[0mmodel\u001b[0m\u001b[0;34m(\u001b[0m\u001b[0mdata\u001b[0m\u001b[0;34m)\u001b[0m\u001b[0;34m\u001b[0m\u001b[0;34m\u001b[0m\u001b[0m\n\u001b[0m\u001b[1;32m     17\u001b[0m     \u001b[0mloss\u001b[0m \u001b[0;34m=\u001b[0m \u001b[0mcriterion\u001b[0m\u001b[0;34m(\u001b[0m\u001b[0mscores\u001b[0m\u001b[0;34m,\u001b[0m \u001b[0mtarget\u001b[0m\u001b[0;34m)\u001b[0m\u001b[0;34m\u001b[0m\u001b[0;34m\u001b[0m\u001b[0m\n\u001b[1;32m     18\u001b[0m     \u001b[0mloss\u001b[0m\u001b[0;34m.\u001b[0m\u001b[0mbackward\u001b[0m\u001b[0;34m(\u001b[0m\u001b[0;34m)\u001b[0m\u001b[0;34m\u001b[0m\u001b[0;34m\u001b[0m\u001b[0m\n",
      "\u001b[0;32m~/anaconda3/envs/vision2/lib/python3.7/site-packages/torch/nn/modules/module.py\u001b[0m in \u001b[0;36m_call_impl\u001b[0;34m(self, *input, **kwargs)\u001b[0m\n\u001b[1;32m   1100\u001b[0m         if not (self._backward_hooks or self._forward_hooks or self._forward_pre_hooks or _global_backward_hooks\n\u001b[1;32m   1101\u001b[0m                 or _global_forward_hooks or _global_forward_pre_hooks):\n\u001b[0;32m-> 1102\u001b[0;31m             \u001b[0;32mreturn\u001b[0m \u001b[0mforward_call\u001b[0m\u001b[0;34m(\u001b[0m\u001b[0;34m*\u001b[0m\u001b[0minput\u001b[0m\u001b[0;34m,\u001b[0m \u001b[0;34m**\u001b[0m\u001b[0mkwargs\u001b[0m\u001b[0;34m)\u001b[0m\u001b[0;34m\u001b[0m\u001b[0;34m\u001b[0m\u001b[0m\n\u001b[0m\u001b[1;32m   1103\u001b[0m         \u001b[0;31m# Do not call functions when jit is used\u001b[0m\u001b[0;34m\u001b[0m\u001b[0;34m\u001b[0m\u001b[0;34m\u001b[0m\u001b[0m\n\u001b[1;32m   1104\u001b[0m         \u001b[0mfull_backward_hooks\u001b[0m\u001b[0;34m,\u001b[0m \u001b[0mnon_full_backward_hooks\u001b[0m \u001b[0;34m=\u001b[0m \u001b[0;34m[\u001b[0m\u001b[0;34m]\u001b[0m\u001b[0;34m,\u001b[0m \u001b[0;34m[\u001b[0m\u001b[0;34m]\u001b[0m\u001b[0;34m\u001b[0m\u001b[0;34m\u001b[0m\u001b[0m\n",
      "\u001b[0;32m<ipython-input-10-73c8bf237661>\u001b[0m in \u001b[0;36mforward\u001b[0;34m(self, img, irt)\u001b[0m\n\u001b[1;32m     58\u001b[0m         \u001b[0mx\u001b[0m \u001b[0;34m=\u001b[0m \u001b[0mself\u001b[0m\u001b[0;34m.\u001b[0m\u001b[0mmaxpool\u001b[0m\u001b[0;34m(\u001b[0m\u001b[0mx\u001b[0m\u001b[0;34m)\u001b[0m  \u001b[0;31m# out_dim [6x6x256]\u001b[0m\u001b[0;34m\u001b[0m\u001b[0;34m\u001b[0m\u001b[0m\n\u001b[1;32m     59\u001b[0m         \u001b[0mx\u001b[0m \u001b[0;34m=\u001b[0m \u001b[0mx\u001b[0m\u001b[0;34m.\u001b[0m\u001b[0mreshape\u001b[0m\u001b[0;34m(\u001b[0m\u001b[0mx\u001b[0m\u001b[0;34m.\u001b[0m\u001b[0mshape\u001b[0m\u001b[0;34m[\u001b[0m\u001b[0;36m0\u001b[0m\u001b[0;34m]\u001b[0m\u001b[0;34m,\u001b[0m \u001b[0;34m-\u001b[0m\u001b[0;36m1\u001b[0m\u001b[0;34m)\u001b[0m  \u001b[0;31m# out_dim [9216x1]\u001b[0m\u001b[0;34m\u001b[0m\u001b[0;34m\u001b[0m\u001b[0m\n\u001b[0;32m---> 60\u001b[0;31m         \u001b[0mx\u001b[0m \u001b[0;34m=\u001b[0m \u001b[0mF\u001b[0m\u001b[0;34m.\u001b[0m\u001b[0mrelu\u001b[0m\u001b[0;34m(\u001b[0m\u001b[0mself\u001b[0m\u001b[0;34m.\u001b[0m\u001b[0mfc1\u001b[0m\u001b[0;34m(\u001b[0m\u001b[0mx\u001b[0m\u001b[0;34m)\u001b[0m\u001b[0;34m)\u001b[0m \u001b[0;31m# out_dim [4096x1]\u001b[0m\u001b[0;34m\u001b[0m\u001b[0;34m\u001b[0m\u001b[0m\n\u001b[0m\u001b[1;32m     61\u001b[0m         \u001b[0mx\u001b[0m \u001b[0;34m=\u001b[0m \u001b[0mF\u001b[0m\u001b[0;34m.\u001b[0m\u001b[0mrelu\u001b[0m\u001b[0;34m(\u001b[0m\u001b[0mself\u001b[0m\u001b[0;34m.\u001b[0m\u001b[0mfc2\u001b[0m\u001b[0;34m(\u001b[0m\u001b[0mx\u001b[0m\u001b[0;34m)\u001b[0m\u001b[0;34m)\u001b[0m \u001b[0;31m# out_dim [4096x1]\u001b[0m\u001b[0;34m\u001b[0m\u001b[0;34m\u001b[0m\u001b[0m\n\u001b[1;32m     62\u001b[0m         \u001b[0mx\u001b[0m \u001b[0;34m=\u001b[0m \u001b[0mF\u001b[0m\u001b[0;34m.\u001b[0m\u001b[0mrelu\u001b[0m\u001b[0;34m(\u001b[0m\u001b[0mself\u001b[0m\u001b[0;34m.\u001b[0m\u001b[0mfc3\u001b[0m\u001b[0;34m(\u001b[0m\u001b[0mx\u001b[0m\u001b[0;34m)\u001b[0m\u001b[0;34m)\u001b[0m \u001b[0;31m# out_dim [4096x1]\u001b[0m\u001b[0;34m\u001b[0m\u001b[0;34m\u001b[0m\u001b[0m\n",
      "\u001b[0;32m~/anaconda3/envs/vision2/lib/python3.7/site-packages/torch/nn/modules/module.py\u001b[0m in \u001b[0;36m_call_impl\u001b[0;34m(self, *input, **kwargs)\u001b[0m\n\u001b[1;32m   1100\u001b[0m         if not (self._backward_hooks or self._forward_hooks or self._forward_pre_hooks or _global_backward_hooks\n\u001b[1;32m   1101\u001b[0m                 or _global_forward_hooks or _global_forward_pre_hooks):\n\u001b[0;32m-> 1102\u001b[0;31m             \u001b[0;32mreturn\u001b[0m \u001b[0mforward_call\u001b[0m\u001b[0;34m(\u001b[0m\u001b[0;34m*\u001b[0m\u001b[0minput\u001b[0m\u001b[0;34m,\u001b[0m \u001b[0;34m**\u001b[0m\u001b[0mkwargs\u001b[0m\u001b[0;34m)\u001b[0m\u001b[0;34m\u001b[0m\u001b[0;34m\u001b[0m\u001b[0m\n\u001b[0m\u001b[1;32m   1103\u001b[0m         \u001b[0;31m# Do not call functions when jit is used\u001b[0m\u001b[0;34m\u001b[0m\u001b[0;34m\u001b[0m\u001b[0;34m\u001b[0m\u001b[0m\n\u001b[1;32m   1104\u001b[0m         \u001b[0mfull_backward_hooks\u001b[0m\u001b[0;34m,\u001b[0m \u001b[0mnon_full_backward_hooks\u001b[0m \u001b[0;34m=\u001b[0m \u001b[0;34m[\u001b[0m\u001b[0;34m]\u001b[0m\u001b[0;34m,\u001b[0m \u001b[0;34m[\u001b[0m\u001b[0;34m]\u001b[0m\u001b[0;34m\u001b[0m\u001b[0;34m\u001b[0m\u001b[0m\n",
      "\u001b[0;32m~/anaconda3/envs/vision2/lib/python3.7/site-packages/torch/nn/modules/linear.py\u001b[0m in \u001b[0;36mforward\u001b[0;34m(self, input)\u001b[0m\n\u001b[1;32m    101\u001b[0m \u001b[0;34m\u001b[0m\u001b[0m\n\u001b[1;32m    102\u001b[0m     \u001b[0;32mdef\u001b[0m \u001b[0mforward\u001b[0m\u001b[0;34m(\u001b[0m\u001b[0mself\u001b[0m\u001b[0;34m,\u001b[0m \u001b[0minput\u001b[0m\u001b[0;34m:\u001b[0m \u001b[0mTensor\u001b[0m\u001b[0;34m)\u001b[0m \u001b[0;34m->\u001b[0m \u001b[0mTensor\u001b[0m\u001b[0;34m:\u001b[0m\u001b[0;34m\u001b[0m\u001b[0;34m\u001b[0m\u001b[0m\n\u001b[0;32m--> 103\u001b[0;31m         \u001b[0;32mreturn\u001b[0m \u001b[0mF\u001b[0m\u001b[0;34m.\u001b[0m\u001b[0mlinear\u001b[0m\u001b[0;34m(\u001b[0m\u001b[0minput\u001b[0m\u001b[0;34m,\u001b[0m \u001b[0mself\u001b[0m\u001b[0;34m.\u001b[0m\u001b[0mweight\u001b[0m\u001b[0;34m,\u001b[0m \u001b[0mself\u001b[0m\u001b[0;34m.\u001b[0m\u001b[0mbias\u001b[0m\u001b[0;34m)\u001b[0m\u001b[0;34m\u001b[0m\u001b[0;34m\u001b[0m\u001b[0m\n\u001b[0m\u001b[1;32m    104\u001b[0m \u001b[0;34m\u001b[0m\u001b[0m\n\u001b[1;32m    105\u001b[0m     \u001b[0;32mdef\u001b[0m \u001b[0mextra_repr\u001b[0m\u001b[0;34m(\u001b[0m\u001b[0mself\u001b[0m\u001b[0;34m)\u001b[0m \u001b[0;34m->\u001b[0m \u001b[0mstr\u001b[0m\u001b[0;34m:\u001b[0m\u001b[0;34m\u001b[0m\u001b[0;34m\u001b[0m\u001b[0m\n",
      "\u001b[0;32m~/anaconda3/envs/vision2/lib/python3.7/site-packages/torch/nn/functional.py\u001b[0m in \u001b[0;36mlinear\u001b[0;34m(input, weight, bias)\u001b[0m\n\u001b[1;32m   1846\u001b[0m     \u001b[0;32mif\u001b[0m \u001b[0mhas_torch_function_variadic\u001b[0m\u001b[0;34m(\u001b[0m\u001b[0minput\u001b[0m\u001b[0;34m,\u001b[0m \u001b[0mweight\u001b[0m\u001b[0;34m,\u001b[0m \u001b[0mbias\u001b[0m\u001b[0;34m)\u001b[0m\u001b[0;34m:\u001b[0m\u001b[0;34m\u001b[0m\u001b[0;34m\u001b[0m\u001b[0m\n\u001b[1;32m   1847\u001b[0m         \u001b[0;32mreturn\u001b[0m \u001b[0mhandle_torch_function\u001b[0m\u001b[0;34m(\u001b[0m\u001b[0mlinear\u001b[0m\u001b[0;34m,\u001b[0m \u001b[0;34m(\u001b[0m\u001b[0minput\u001b[0m\u001b[0;34m,\u001b[0m \u001b[0mweight\u001b[0m\u001b[0;34m,\u001b[0m \u001b[0mbias\u001b[0m\u001b[0;34m)\u001b[0m\u001b[0;34m,\u001b[0m \u001b[0minput\u001b[0m\u001b[0;34m,\u001b[0m \u001b[0mweight\u001b[0m\u001b[0;34m,\u001b[0m \u001b[0mbias\u001b[0m\u001b[0;34m=\u001b[0m\u001b[0mbias\u001b[0m\u001b[0;34m)\u001b[0m\u001b[0;34m\u001b[0m\u001b[0;34m\u001b[0m\u001b[0m\n\u001b[0;32m-> 1848\u001b[0;31m     \u001b[0;32mreturn\u001b[0m \u001b[0mtorch\u001b[0m\u001b[0;34m.\u001b[0m\u001b[0m_C\u001b[0m\u001b[0;34m.\u001b[0m\u001b[0m_nn\u001b[0m\u001b[0;34m.\u001b[0m\u001b[0mlinear\u001b[0m\u001b[0;34m(\u001b[0m\u001b[0minput\u001b[0m\u001b[0;34m,\u001b[0m \u001b[0mweight\u001b[0m\u001b[0;34m,\u001b[0m \u001b[0mbias\u001b[0m\u001b[0;34m)\u001b[0m\u001b[0;34m\u001b[0m\u001b[0;34m\u001b[0m\u001b[0m\n\u001b[0m\u001b[1;32m   1849\u001b[0m \u001b[0;34m\u001b[0m\u001b[0m\n\u001b[1;32m   1850\u001b[0m \u001b[0;34m\u001b[0m\u001b[0m\n",
      "\u001b[0;31mRuntimeError\u001b[0m: mat1 and mat2 shapes cannot be multiplied (5x26880 and 3456x2304)"
     ]
    },
    {
     "ename": "",
     "evalue": "",
     "output_type": "error",
     "traceback": [
      "\u001b[1;31mThe Kernel crashed while executing code in the the current cell or a previous cell. Please review the code in the cell(s) to identify a possible cause of the failure. Click <a href='https://aka.ms/vscodeJupyterKernelCrash'>here</a> for more info. View Jupyter <a href='command:jupyter.viewOutput'>log</a> for further details."
     ]
    }
   ],
   "source": [
    "model = AlexNet_(dtype='img')\n",
    "model.cuda(args.device)\n",
    "model.train()\n",
    "criterion = nn.CrossEntropyLoss()\n",
    "optimizer = optimize.Adam(model.parameters(), lr = args.lr)\n",
    "train_loss = 0\n",
    "for batch_idx, (data, target) in enumerate(train_loader):\n",
    "    if args.cuda:\n",
    "        data, target = data.cuda(args.device), target.cuda(args.device)\n",
    "    data, target = Variable(data), Variable(target)\n",
    "    print('data shape: ', data.shape)\n",
    "    print('target: ', target.shape)\n",
    "    data = data.float()\n",
    "    optimizer.zero_grad()\n",
    "\n",
    "    scores = model(data)\n",
    "    loss = criterion(scores, target)\n",
    "    loss.backward()\n",
    "    optimizer.step()\n",
    "    train_loss += loss.item()\n",
    "\n",
    "    if batch_idx % args.log_interval == 0:\n",
    "        print(f'Batch: {batch_idx} --> Loss: {loss}')\n",
    "\n",
    "torch.save(model.state_dict(), '%s/%s' % (args.bestmodel_path,args.save))\n",
    "    \n"
   ]
  }
 ],
 "metadata": {
  "interpreter": {
   "hash": "de524df2556619ac52ae4d6fc6329014664a1ee6288fe4648c96bb405c59eba5"
  },
  "kernelspec": {
   "display_name": "Python 3.7.6 ('vision2')",
   "language": "python",
   "name": "python3"
  },
  "language_info": {
   "codemirror_mode": {
    "name": "ipython",
    "version": 3
   },
   "file_extension": ".py",
   "mimetype": "text/x-python",
   "name": "python",
   "nbconvert_exporter": "python",
   "pygments_lexer": "ipython3",
   "version": "3.7.6"
  },
  "orig_nbformat": 4
 },
 "nbformat": 4,
 "nbformat_minor": 2
}
